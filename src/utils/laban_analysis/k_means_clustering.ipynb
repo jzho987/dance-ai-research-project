{
 "cells": [
  {
   "cell_type": "code",
   "execution_count": 1,
   "metadata": {},
   "outputs": [
    {
     "name": "stdout",
     "output_type": "stream",
     "text": [
      "filtering: dance_data_141_corrected\n",
      "filtering: dance_data_25_corrected\n",
      "filtering: dance_data_98_corrected\n",
      "filtering: dance_data_99_corrected\n",
      "filtering: dance_data_100_corrected\n",
      "filtering: dance_data_118_corrected\n",
      "filtering: dance_data_129_corrected\n",
      "filtering: dance_data_48_corrected\n",
      "filtering: dance_data_49_corrected\n",
      "filtering: dance_data_34_corrected\n",
      "shape: (204, 52)\n",
      "┌──────────┬──────────┬──────────┬──────────┬───┬──────────┬──────────┬────────────┬───────────────┐\n",
      "│ f1_max   ┆ f1_std   ┆ f1_mean  ┆ f2_max   ┆ … ┆ f19_max  ┆ f19_std  ┆ f19_mean   ┆ name          │\n",
      "│ ---      ┆ ---      ┆ ---      ┆ ---      ┆   ┆ ---      ┆ ---      ┆ ---        ┆ ---           │\n",
      "│ f64      ┆ f64      ┆ f64      ┆ f64      ┆   ┆ f64      ┆ f64      ┆ f64        ┆ str           │\n",
      "╞══════════╪══════════╪══════════╪══════════╪═══╪══════════╪══════════╪════════════╪═══════════════╡\n",
      "│ 0.985398 ┆ 0.011175 ┆ 0.968661 ┆ 0.588975 ┆ … ┆ 0.000208 ┆ 0.000058 ┆ 2.0121e-7  ┆ dance_data_19 │\n",
      "│          ┆          ┆          ┆          ┆   ┆          ┆          ┆            ┆ 0_corrected   │\n",
      "│ 0.931043 ┆ 0.079408 ┆ 0.846652 ┆ 0.571822 ┆ … ┆ 0.000873 ┆ 0.000219 ┆ 0.000005   ┆ dance_data_59 │\n",
      "│          ┆          ┆          ┆          ┆   ┆          ┆          ┆            ┆ _corrected    │\n",
      "│ 1.028447 ┆ 0.123747 ┆ 0.87609  ┆ 0.585827 ┆ … ┆ 0.001078 ┆ 0.000292 ┆ -0.000003  ┆ dance_data_16 │\n",
      "│          ┆          ┆          ┆          ┆   ┆          ┆          ┆            ┆ 4_corrected   │\n",
      "│ 1.048309 ┆ 0.044804 ┆ 0.955936 ┆ 0.558139 ┆ … ┆ 0.004414 ┆ 0.000718 ┆ 9.8923e-7  ┆ dance_data_12 │\n",
      "│          ┆          ┆          ┆          ┆   ┆          ┆          ┆            ┆ 8_corrected   │\n",
      "│ 1.063127 ┆ 0.070632 ┆ 0.931177 ┆ 0.578398 ┆ … ┆ 0.00083  ┆ 0.000177 ┆ 6.0189e-7  ┆ dance_data_19 │\n",
      "│          ┆          ┆          ┆          ┆   ┆          ┆          ┆            ┆ _corrected    │\n",
      "│ …        ┆ …        ┆ …        ┆ …        ┆ … ┆ …        ┆ …        ┆ …          ┆ …             │\n",
      "│ 1.015289 ┆ 0.039747 ┆ 0.953545 ┆ 0.463662 ┆ … ┆ 0.001025 ┆ 0.000152 ┆ -1.8776e-8 ┆ dance_data_19 │\n",
      "│          ┆          ┆          ┆          ┆   ┆          ┆          ┆            ┆ 8_corrected   │\n",
      "│ 1.021128 ┆ 0.085146 ┆ 0.901822 ┆ 0.575564 ┆ … ┆ 0.001658 ┆ 0.000239 ┆ 0.000002   ┆ dance_data_17 │\n",
      "│          ┆          ┆          ┆          ┆   ┆          ┆          ┆            ┆ 4_corrected   │\n",
      "│ 0.986359 ┆ 0.054227 ┆ 0.926663 ┆ 0.583052 ┆ … ┆ 0.002328 ┆ 0.000321 ┆ 0.000007   ┆ dance_data_22 │\n",
      "│          ┆          ┆          ┆          ┆   ┆          ┆          ┆            ┆ _corrected    │\n",
      "│ 0.941187 ┆ 0.135399 ┆ 0.73826  ┆ 0.584219 ┆ … ┆ 0.000658 ┆ 0.000209 ┆ 0.000001   ┆ dance_data_95 │\n",
      "│          ┆          ┆          ┆          ┆   ┆          ┆          ┆            ┆ _corrected    │\n",
      "│ 1.057094 ┆ 0.097919 ┆ 0.954897 ┆ 0.585543 ┆ … ┆ 0.002423 ┆ 0.000528 ┆ 0.000004   ┆ dance_data_17 │\n",
      "│          ┆          ┆          ┆          ┆   ┆          ┆          ┆            ┆ _corrected    │\n",
      "└──────────┴──────────┴──────────┴──────────┴───┴──────────┴──────────┴────────────┴───────────────┘\n",
      "shape: (204, 51)\n",
      "┌───────────┬───────────┬───────────┬───────────┬───┬───────────┬───────────┬───────────┬──────────┐\n",
      "│ column_0  ┆ column_1  ┆ column_2  ┆ column_3  ┆ … ┆ column_47 ┆ column_48 ┆ column_49 ┆ column_5 │\n",
      "│ ---       ┆ ---       ┆ ---       ┆ ---       ┆   ┆ ---       ┆ ---       ┆ ---       ┆ 0        │\n",
      "│ f64       ┆ f64       ┆ f64       ┆ f64       ┆   ┆ f64       ┆ f64       ┆ f64       ┆ ---      │\n",
      "│           ┆           ┆           ┆           ┆   ┆           ┆           ┆           ┆ f64      │\n",
      "╞═══════════╪═══════════╪═══════════╪═══════════╪═══╪═══════════╪═══════════╪═══════════╪══════════╡\n",
      "│ -0.26118  ┆ -0.92435  ┆ 0.53281   ┆ 0.801414  ┆ … ┆ 0.013812  ┆ -0.566729 ┆ -0.776654 ┆ -0.07180 │\n",
      "│           ┆           ┆           ┆           ┆   ┆           ┆           ┆           ┆ 4        │\n",
      "│ -1.198275 ┆ 0.652356  ┆ -1.068947 ┆ 0.014712  ┆ … ┆ 0.249497  ┆ -0.287185 ┆ -0.151484 ┆ 0.927837 │\n",
      "│ 0.480994  ┆ 1.67693   ┆ -0.682479 ┆ 0.657023  ┆ … ┆ -2.716877 ┆ -0.200858 ┆ 0.127066  ┆ -0.68567 │\n",
      "│           ┆           ┆           ┆           ┆   ┆           ┆           ┆           ┆ 4        │\n",
      "│ 0.823425  ┆ -0.147268 ┆ 0.365745  ┆ -0.612873 ┆ … ┆ -1.016272 ┆ 1.201648  ┆ 1.775959  ┆ 0.077896 │\n",
      "│ 1.07889   ┆ 0.449557  ┆ 0.040713  ┆ 0.316327  ┆ … ┆ 0.065743  ┆ -0.305319 ┆ -0.315166 ┆ 0.004313 │\n",
      "│ …         ┆ …         ┆ …         ┆ …         ┆ … ┆ …         ┆ …         ┆ …         ┆ …        │\n",
      "│ 0.25414   ┆ -0.264127 ┆ 0.334358  ┆ -4.945968 ┆ … ┆ 0.231471  ┆ -0.223053 ┆ -0.411271 ┆ -0.11359 │\n",
      "│           ┆           ┆           ┆           ┆   ┆           ┆           ┆           ┆ 4        │\n",
      "│ 0.354812  ┆ 0.784955  ┆ -0.344667 ┆ 0.186342  ┆ … ┆ -0.210022 ┆ 0.043105  ┆ -0.075885 ┆ 0.238133 │\n",
      "│ -0.244611 ┆ 0.07049   ┆ -0.018551 ┆ 0.529738  ┆ … ┆ 0.331298  ┆ 0.324762  ┆ 0.242465  ┆ 1.255849 │\n",
      "│ -1.023389 ┆ 1.946177  ┆ -2.491945 ┆ 0.583295  ┆ … ┆ 0.403984  ┆ -0.377563 ┆ -0.190377 ┆ 0.086791 │\n",
      "│ 0.974874  ┆ 1.080111  ┆ 0.352102  ┆ 0.644022  ┆ … ┆ -0.066069 ┆ 0.364561  ┆ 1.040742  ┆ 0.58929  │\n",
      "└───────────┴───────────┴───────────┴───────────┴───┴───────────┴───────────┴───────────┴──────────┘\n",
      "shape: (1, 51)\n",
      "┌──────────┬──────────┬──────────┬──────────┬───┬───────────┬───────────┬───────────┬───────────┐\n",
      "│ column_0 ┆ column_1 ┆ column_2 ┆ column_3 ┆ … ┆ column_47 ┆ column_48 ┆ column_49 ┆ column_50 │\n",
      "│ ---      ┆ ---      ┆ ---      ┆ ---      ┆   ┆ ---       ┆ ---       ┆ ---       ┆ ---       │\n",
      "│ f64      ┆ f64      ┆ f64      ┆ f64      ┆   ┆ f64       ┆ f64       ┆ f64       ┆ f64       │\n",
      "╞══════════╪══════════╪══════════╪══════════╪═══╪═══════════╪═══════════╪═══════════╪═══════════╡\n",
      "│ 1.00246  ┆ 1.00246  ┆ 1.00246  ┆ 1.00246  ┆ … ┆ 1.00246   ┆ 1.00246   ┆ 1.00246   ┆ 1.00246   │\n",
      "└──────────┴──────────┴──────────┴──────────┴───┴───────────┴───────────┴───────────┴───────────┘\n",
      "shape: (1, 51)\n",
      "┌───────────┬───────────┬───────────┬───────────┬───┬───────────┬───────────┬───────────┬──────────┐\n",
      "│ column_0  ┆ column_1  ┆ column_2  ┆ column_3  ┆ … ┆ column_47 ┆ column_48 ┆ column_49 ┆ column_5 │\n",
      "│ ---       ┆ ---       ┆ ---       ┆ ---       ┆   ┆ ---       ┆ ---       ┆ ---       ┆ 0        │\n",
      "│ f64       ┆ f64       ┆ f64       ┆ f64       ┆   ┆ f64       ┆ f64       ┆ f64       ┆ ---      │\n",
      "│           ┆           ┆           ┆           ┆   ┆           ┆           ┆           ┆ f64      │\n",
      "╞═══════════╪═══════════╪═══════════╪═══════════╪═══╪═══════════╪═══════════╪═══════════╪══════════╡\n",
      "│ 2.8779e-1 ┆ 8.7076e-1 ┆ 1.1777e-1 ┆ 4.6847e-1 ┆ … ┆ 1.0885e-1 ┆ 1.7415e-1 ┆ 2.1769e-1 ┆ -2.6123e │\n",
      "│ 5         ┆ 8         ┆ 5         ┆ 5         ┆   ┆ 7         ┆ 7         ┆ 6         ┆ -17      │\n",
      "└───────────┴───────────┴───────────┴───────────┴───┴───────────┴───────────┴───────────┴──────────┘\n"
     ]
    }
   ],
   "source": [
    "import os\n",
    "import generate_features\n",
    "import polars as pl\n",
    "\n",
    "df = pl.read_csv(\"./features_complete.csv\")\n",
    "with open(\"black_list.txt\") as f:\n",
    "    all = f.read()\n",
    "    lines = all.split(\"\\n\")\n",
    "\n",
    "for line in lines:\n",
    "    filter_name = f\"dance_data_{line}_corrected\"\n",
    "    print(f\"filtering: {filter_name}\")\n",
    "    df = df.filter(\n",
    "        pl.col(\"name\") != filter_name\n",
    "    )\n",
    "\n",
    "from sklearn.preprocessing import StandardScaler\n",
    "\n",
    "print(df)\n",
    "scaler = StandardScaler()\n",
    "name_df = df.clone()\n",
    "df.write_csv(\"./features_all.csv\")\n",
    "df = df.select(\n",
    "    pl.exclude(\"name\")\n",
    ")\n",
    "df = pl.DataFrame(scaler.fit_transform(df))\n",
    "data = df.to_numpy()\n",
    "print(df)\n",
    "print(df.std())\n",
    "print(df.mean())"
   ]
  },
  {
   "cell_type": "code",
   "execution_count": 2,
   "metadata": {},
   "outputs": [
    {
     "name": "stdout",
     "output_type": "stream",
     "text": [
      "(204, 51)\n"
     ]
    },
    {
     "data": {
      "image/png": "[encoded data removed]",
      "text/plain": [
       "<Figure size 640x480 with 1 Axes>"
      ]
     },
     "metadata": {},
     "output_type": "display_data"
    }
   ],
   "source": [
    "from sklearn.cluster import KMeans\n",
    "import matplotlib.pyplot as plt\n",
    "\n",
    "print(data.shape)\n",
    "inertias = []\n",
    "for i in range(1,40):\n",
    "    kmeans = KMeans(n_clusters=i)\n",
    "    kmeans.fit(data)\n",
    "    inertias.append(kmeans.inertia_)\n",
    "\n",
    "import matplotlib.pyplot as plt\n",
    "\n",
    "plt.plot(range(1,40), inertias, marker='o')\n",
    "plt.title('Elbow method')\n",
    "plt.xlabel('Number of clusters')\n",
    "plt.ylabel('Inertia')\n",
    "plt.show()"
   ]
  },
  {
   "cell_type": "code",
   "execution_count": 3,
   "metadata": {},
   "outputs": [
    {
     "name": "stdout",
     "output_type": "stream",
     "text": [
      "(204, 51)\n",
      "[1 4 4 4 5 7 2 4 1 7 6 2 6 0 2 5 7 4 1 2 4 0 4 0 5 6 2 2 6 5 7 5 5 5 3 1 5\n",
      " 5 6 1 5 4 5 5 6 5 6 1 5 2 2 2 0 3 2 7 1 6 2 3 5 5 6 0 5 5 2 5 5 4 7 5 2 6\n",
      " 1 4 1 6 2 7 6 7 5 6 6 2 5 4 0 1 6 5 2 2 1 3 4 5 2 6 5 3 4 2 4 0 5 5 3 0 5\n",
      " 7 5 1 6 1 7 7 0 7 4 7 7 5 5 0 4 5 2 2 1 6 5 1 3 5 6 6 7 2 7 2 2 6 5 2 1 2\n",
      " 7 6 1 5 5 2 6 7 5 1 0 5 4 2 5 4 6 4 5 0 4 7 1 2 6 1 7 7 6 6 1 2 7 1 6 4 2\n",
      " 2 6 6 6 3 0 3 0 0 6 5 6 5 5 3 0 5 2 5]\n",
      "shape: (204, 52)\n",
      "┌───────────┬───────────┬───────────┬───────────┬───┬───────────┬───────────┬───────────┬─────────┐\n",
      "│ column_0  ┆ column_1  ┆ column_2  ┆ column_3  ┆ … ┆ column_48 ┆ column_49 ┆ column_50 ┆ cluster │\n",
      "│ ---       ┆ ---       ┆ ---       ┆ ---       ┆   ┆ ---       ┆ ---       ┆ ---       ┆ ---     │\n",
      "│ f64       ┆ f64       ┆ f64       ┆ f64       ┆   ┆ f64       ┆ f64       ┆ f64       ┆ i32     │\n",
      "╞═══════════╪═══════════╪═══════════╪═══════════╪═══╪═══════════╪═══════════╪═══════════╪═════════╡\n",
      "│ -0.26118  ┆ -0.92435  ┆ 0.53281   ┆ 0.801414  ┆ … ┆ -0.566729 ┆ -0.776654 ┆ -0.071804 ┆ 1       │\n",
      "│ -1.198275 ┆ 0.652356  ┆ -1.068947 ┆ 0.014712  ┆ … ┆ -0.287185 ┆ -0.151484 ┆ 0.927837  ┆ 4       │\n",
      "│ 0.480994  ┆ 1.67693   ┆ -0.682479 ┆ 0.657023  ┆ … ┆ -0.200858 ┆ 0.127066  ┆ -0.685674 ┆ 4       │\n",
      "│ 0.823425  ┆ -0.147268 ┆ 0.365745  ┆ -0.612873 ┆ … ┆ 1.201648  ┆ 1.775959  ┆ 0.077896  ┆ 4       │\n",
      "│ 1.07889   ┆ 0.449557  ┆ 0.040713  ┆ 0.316327  ┆ … ┆ -0.305319 ┆ -0.315166 ┆ 0.004313  ┆ 5       │\n",
      "│ …         ┆ …         ┆ …         ┆ …         ┆ … ┆ …         ┆ …         ┆ …         ┆ …       │\n",
      "│ 0.25414   ┆ -0.264127 ┆ 0.334358  ┆ -4.945968 ┆ … ┆ -0.223053 ┆ -0.411271 ┆ -0.113594 ┆ 3       │\n",
      "│ 0.354812  ┆ 0.784955  ┆ -0.344667 ┆ 0.186342  ┆ … ┆ 0.043105  ┆ -0.075885 ┆ 0.238133  ┆ 0       │\n",
      "│ -0.244611 ┆ 0.07049   ┆ -0.018551 ┆ 0.529738  ┆ … ┆ 0.324762  ┆ 0.242465  ┆ 1.255849  ┆ 5       │\n",
      "│ -1.023389 ┆ 1.946177  ┆ -2.491945 ┆ 0.583295  ┆ … ┆ -0.377563 ┆ -0.190377 ┆ 0.086791  ┆ 2       │\n",
      "│ 0.974874  ┆ 1.080111  ┆ 0.352102  ┆ 0.644022  ┆ … ┆ 0.364561  ┆ 1.040742  ┆ 0.58929   ┆ 5       │\n",
      "└───────────┴───────────┴───────────┴───────────┴───┴───────────┴───────────┴───────────┴─────────┘\n"
     ]
    }
   ],
   "source": [
    "from sklearn.cluster import KMeans\n",
    "\n",
    "print(data.shape)\n",
    "n = 8\n",
    "kmeans = KMeans(n_clusters=n)\n",
    "kmeans.fit(data)\n",
    "clusters = kmeans.predict(data)\n",
    "print(clusters)\n",
    "\n",
    "cluster_dict = {\"cluster\": clusters}\n",
    "cluster_df = pl.from_dict(cluster_dict)\n",
    "\n",
    "df = df.hstack(cluster_df)\n",
    "print(df)\n"
   ]
  },
  {
   "cell_type": "code",
   "execution_count": 4,
   "metadata": {},
   "outputs": [
    {
     "name": "stdout",
     "output_type": "stream",
     "text": [
      "shape: (204, 2)\n",
      "┌──────────────────────────┬─────────┐\n",
      "│ name                     ┆ cluster │\n",
      "│ ---                      ┆ ---     │\n",
      "│ str                      ┆ i32     │\n",
      "╞══════════════════════════╪═════════╡\n",
      "│ dance_data_127_corrected ┆ 0       │\n",
      "│ dance_data_173_corrected ┆ 0       │\n",
      "│ dance_data_156_corrected ┆ 0       │\n",
      "│ dance_data_70_corrected  ┆ 0       │\n",
      "│ dance_data_45_corrected  ┆ 0       │\n",
      "│ …                        ┆ …       │\n",
      "│ dance_data_143_corrected ┆ 7       │\n",
      "│ dance_data_146_corrected ┆ 7       │\n",
      "│ dance_data_200_corrected ┆ 7       │\n",
      "│ dance_data_147_corrected ┆ 7       │\n",
      "│ dance_data_42_corrected  ┆ 7       │\n",
      "└──────────────────────────┴─────────┘\n"
     ]
    }
   ],
   "source": [
    "named_cluster = name_df.hstack(cluster_df.select(pl.col(\"cluster\")))\n",
    "named_cluster = named_cluster.select(\n",
    "    pl.col(\"name\"),\n",
    "    pl.col(\"cluster\"),\n",
    ").sort(\n",
    "    pl.col(\"cluster\")\n",
    ")\n",
    "\n",
    "print(named_cluster)\n",
    "named_cluster.write_csv(f\"./k-means-{n}n.csv\")"
   ]
  }
 ],
 "metadata": {
  "kernelspec": {
   "display_name": "ml-3.9",
   "language": "python",
   "name": "python3"
  },
  "language_info": {
   "codemirror_mode": {
    "name": "ipython",
    "version": 3
   },
   "file_extension": ".py",
   "mimetype": "text/x-python",
   "name": "python",
   "nbconvert_exporter": "python",
   "pygments_lexer": "ipython3",
   "version": "3.9.19"
  }
 },
 "nbformat": 4,
 "nbformat_minor": 2
}
