{
 "cells": [
  {
   "cell_type": "code",
   "execution_count": 4,
   "metadata": {},
   "outputs": [
    {
     "name": "stdout",
     "output_type": "stream",
     "text": [
      "shape: (63_900, 80)\n",
      "┌──────────┬──────────┬──────────┬──────────┬───┬──────────────────┬───────┬─────┬─────────────────┐\n",
      "│ f1_min   ┆ f1_max   ┆ f1_std   ┆ f1_mean  ┆ … ┆ name_orig        ┆ music ┆ win ┆ name            │\n",
      "│ ---      ┆ ---      ┆ ---      ┆ ---      ┆   ┆ ---              ┆ ---   ┆ --- ┆ ---             │\n",
      "│ f64      ┆ f64      ┆ f64      ┆ f64      ┆   ┆ str              ┆ str   ┆ str ┆ str             │\n",
      "╞══════════╪══════════╪══════════╪══════════╪═══╪══════════════════╪═══════╪═════╪═════════════════╡\n",
      "│ 0.687108 ┆ 0.880667 ┆ 0.041199 ┆ 0.840509 ┆ … ┆ dance_data_96_co ┆ mMH0  ┆ 3   ┆ dance_data_96_c │\n",
      "│          ┆          ┆          ┆          ┆   ┆ rrected          ┆       ┆     ┆ orrected        │\n",
      "│ 0.556844 ┆ 0.880923 ┆ 0.064346 ┆ 0.834964 ┆ … ┆ dance_data_44_co ┆ mLO0  ┆ 2   ┆ dance_data_44_c │\n",
      "│          ┆          ┆          ┆          ┆   ┆ rrected          ┆       ┆     ┆ orrected        │\n",
      "│ 0.425007 ┆ 0.875003 ┆ 0.129454 ┆ 0.710535 ┆ … ┆ dance_data_31_co ┆ mWA0  ┆ 2   ┆ dance_data_31_c │\n",
      "│          ┆          ┆          ┆          ┆   ┆ rrected          ┆       ┆     ┆ orrected        │\n",
      "│ 0.38823  ┆ 0.878983 ┆ 0.107073 ┆ 0.768683 ┆ … ┆ dance_data_43_co ┆ mWA0  ┆ 3   ┆ dance_data_43_c │\n",
      "│          ┆          ┆          ┆          ┆   ┆ rrected          ┆       ┆     ┆ orrected        │\n",
      "│ 0.327215 ┆ 0.879828 ┆ 0.210894 ┆ 0.644721 ┆ … ┆ dance_data_87_co ┆ mLO0  ┆ 3   ┆ dance_data_87_c │\n",
      "│          ┆          ┆          ┆          ┆   ┆ rrected          ┆       ┆     ┆ orrected        │\n",
      "│ …        ┆ …        ┆ …        ┆ …        ┆ … ┆ …                ┆ …     ┆ …   ┆ …               │\n",
      "│ 0.702944 ┆ 0.880974 ┆ 0.041937 ┆ 0.838088 ┆ … ┆ dance_data_186_c ┆ mLH0  ┆ 1   ┆ dance_data_186_ │\n",
      "│          ┆          ┆          ┆          ┆   ┆ orrected         ┆       ┆     ┆ corrected       │\n",
      "│ 0.636271 ┆ 0.879835 ┆ 0.04175  ┆ 0.85465  ┆ … ┆ dance_data_197_c ┆ mLO0  ┆ 1   ┆ dance_data_197_ │\n",
      "│          ┆          ┆          ┆          ┆   ┆ orrected         ┆       ┆     ┆ corrected       │\n",
      "│ 0.584842 ┆ 0.878264 ┆ 0.073429 ┆ 0.779657 ┆ … ┆ dance_data_213_c ┆ mBR0  ┆ 3   ┆ dance_data_213_ │\n",
      "│          ┆          ┆          ┆          ┆   ┆ orrected         ┆       ┆     ┆ corrected       │\n",
      "│ 0.534158 ┆ 0.880483 ┆ 0.116111 ┆ 0.7693   ┆ … ┆ dance_data_43_co ┆ mJB0  ┆ 1   ┆ dance_data_43_c │\n",
      "│          ┆          ┆          ┆          ┆   ┆ rrected          ┆       ┆     ┆ orrected        │\n",
      "│ 0.534153 ┆ 0.880484 ┆ 0.10556  ┆ 0.799182 ┆ … ┆ dance_data_43_co ┆ mJB0  ┆ 2   ┆ dance_data_43_c │\n",
      "│          ┆          ┆          ┆          ┆   ┆ rrected          ┆       ┆     ┆ orrected        │\n",
      "└──────────┴──────────┴──────────┴──────────┴───┴──────────────────┴───────┴─────┴─────────────────┘\n"
     ]
    }
   ],
   "source": [
    "# load all data\n",
    "import os\n",
    "import polars as pl\n",
    "data_dir = \"./generated_all\"\n",
    "df = pl.DataFrame()\n",
    "for name in os.listdir(data_dir):\n",
    "    load_df = pl.read_parquet(os.path.join(data_dir, name))\n",
    "    df = df.vstack(load_df)\n",
    "\n",
    "print(df)\n"
   ]
  },
  {
   "cell_type": "code",
   "execution_count": null,
   "metadata": {},
   "outputs": [],
   "source": [
    "# Analysis 1 - compare generated features mean and standard deviation\n",
    "\n",
    "index_df = df.group_by(\n",
    "    by=[\"name\",     ]\n",
    ")"
   ]
  }
 ],
 "metadata": {
  "kernelspec": {
   "display_name": "ml",
   "language": "python",
   "name": "python3"
  },
  "language_info": {
   "codemirror_mode": {
    "name": "ipython",
    "version": 3
   },
   "file_extension": ".py",
   "mimetype": "text/x-python",
   "name": "python",
   "nbconvert_exporter": "python",
   "pygments_lexer": "ipython3",
   "version": "3.9.19"
  }
 },
 "nbformat": 4,
 "nbformat_minor": 2
}
